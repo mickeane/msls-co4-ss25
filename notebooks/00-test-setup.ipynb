{
 "cells": [
  {
   "cell_type": "markdown",
   "id": "ab12ec7d",
   "metadata": {},
   "source": [
    "# **Test the setup**\n",
    "\n",
    "<div style=\"color:#777777;margin-top: -15px;\">\n",
    "<b>Author</b>: Norman Juchler |\n",
    "<b>Course</b>: MSLS CO4 |\n",
    "<b>Version</b>: v1.0 <br><br>\n",
    "<!-- Date: 14.03.2024 -->\n",
    "<!-- Comments: ... -->\n",
    "</div>\n",
    "\n",
    "Use this notebook to check your Python environment."
   ]
  },
  {
   "cell_type": "markdown",
   "id": "3101de0b",
   "metadata": {},
   "source": [
    "## **Print system summary**\n",
    "\n",
    "If you have problems with your Python setup, let the tutor know. Be sure to copy the output of the code below, which will help in finding a solution."
   ]
  },
  {
   "cell_type": "code",
   "execution_count": null,
   "id": "b4f38615",
   "metadata": {},
   "outputs": [],
   "source": [
    "# cd \"C:\\Users\\...\\OneDrive - ZHAW\\Spring 25\\C04\\msls-co4-ss25\"\n",
    "# code .\n",
    "# .\\venv-msls-co4\\Scripts\\Activate.ps1\n",
    "# ( or check ctrl+shift+p for python interpreter; check kernel is correct in jupyter notebook)\n",
    "# (pip install -r requirements.txt)\n",
    "#import sys\n",
    "#print(sys.executable)\n",
    "\n",
    "#===========================================================================\n",
    "# Changing to a lower python version 3.11.8 and reinstalling the packages\n",
    "# # Remove the old broken venv\n",
    "#Remove-Item -Recurse -Force venv-msls-co4\n",
    "\n",
    "# Create new virtual environment using Python 3.11\n",
    "#py -3.11 -m venv venv-msls-co4\n",
    "\n",
    "# Activate it\n",
    "#.\\venv-msls-co4\\Scripts\\Activate.ps1\n",
    "\n",
    "# Install dependencies\n",
    "#pip install --upgrade pip\n",
    "#pip install -r requirements.txt\n",
    "\n",
    "\n",
    "\n"
   ]
  },
  {
   "cell_type": "code",
   "execution_count": null,
   "id": "3aaa2529",
   "metadata": {},
   "outputs": [],
   "source": [
    "import torch\n",
    "import torchvision\n",
    "\n",
    "print(\"PyTorch version:\", torch.__version__)\n",
    "print(\"TorchVision version:\", torchvision.__version__)\n"
   ]
  },
  {
   "cell_type": "code",
   "execution_count": null,
   "id": "ce5e9a55",
   "metadata": {},
   "outputs": [],
   "source": [
    "# Jupyter / IPython configuration:\n",
    "# Automatically reload modules when modified\n",
    "%load_ext autoreload\n",
    "%autoreload 2\n",
    "\n",
    "import sys\n",
    "sys.path.insert(0, \"..\")\n",
    "from tools.system_info import print_system_info\n",
    "\n",
    "import os\n",
    "os.chdir(r\"C:\\Users\\keane\\OneDrive - ZHAW\\Spring 25\\C04\\msls-co4-ss25\")  # <- raw string\n",
    "print(os.getcwd())\n",
    "\n",
    "print_system_info()"
   ]
  },
  {
   "cell_type": "markdown",
   "id": "a9702568",
   "metadata": {},
   "source": [
    "## **Run a minimal example**\n",
    "\n",
    "Read and display an image. If you see the image seen [here](../data/imaging4ls-logo-1.jpg), you're good to go. :)"
   ]
  },
  {
   "cell_type": "code",
   "execution_count": null,
   "id": "407eeddc",
   "metadata": {},
   "outputs": [],
   "source": [
    "import cv2 as cv\n",
    "import tools\n",
    "\n",
    "img = cv.imread(r\"C:\\Users\\keane\\OneDrive - ZHAW\\Spring 25\\C04\\msls-co4-ss25/data/imaging4ls-logo-1.jpg\", cv.IMREAD_COLOR)\n",
    "img = cv.cvtColor(img, cv.COLOR_BGR2RGB)\n",
    "tools.show_image(img, title=\"Success!\")"
   ]
  }
 ],
 "metadata": {
  "kernelspec": {
   "display_name": "venv-msls-co4",
   "language": "python",
   "name": "python3"
  },
  "language_info": {
   "codemirror_mode": {
    "name": "ipython",
    "version": 3
   },
   "file_extension": ".py",
   "mimetype": "text/x-python",
   "name": "python",
   "nbconvert_exporter": "python",
   "pygments_lexer": "ipython3",
   "version": "3.11.8"
  }
 },
 "nbformat": 4,
 "nbformat_minor": 5
}
