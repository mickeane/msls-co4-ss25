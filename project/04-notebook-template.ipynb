{
 "cells": [
  {
   "cell_type": "markdown",
   "metadata": {},
   "source": [
    "# **Project work: A mini segmentation challenge**\n",
    "\n",
    "<div style=\"color:#777777;margin-top: -15px;\">\n",
    "<b>Course</b>: MSLS / CO4 |\n",
    "<b>Version</b>: v1.2 <br><br>\n",
    "<!-- Date: 10.04.2025 -->\n",
    "<!-- Comments: Fully refactored. -->\n",
    "</div>\n",
    "\n",
    "\n",
    "**Student**: $\\Rightarrow$  YOUR NAME  \n",
    "**Email**: $\\Rightarrow$ YOUR EMAIL  \n",
    "**University**: $\\Rightarrow$  YOUR UNIVERSITY  \n",
    "**Semester**: $\\Rightarrow$  YOUR SEMESTER  \n",
    "**Date**: $\\Rightarrow$  DATE OF SUBMISSION\n",
    "\n",
    "\n",
    "<br>\n",
    "\n",
    "## **Abstract**\n",
    "\n",
    "*$\\Rightarrow$ A brief summary of your project in 2-3 sentences.*\n",
    "\n",
    "\n",
    "\n",
    "<br><br>\n",
    "\n",
    "----\n",
    "\n",
    "## **Table of contents**\n",
    "<!-- Unfortunately, the following does not always work correctly -->\n",
    "* [1. Dataset](#sec_dataset)  \n",
    "* [2. Preprocessing](#sec_preprocessing)  \n",
    "* [3. Manual segmentation](#sec_manual_segmentation)  \n",
    "* [4. Automated segmentation](#sec_automated_segmentation)  \n",
    "* [5. Evaluation](#sec_evaluation)  \n",
    "* [6. Discussion](#sec_discussion)  \n",
    "* [Appendix: Hints](#sec_hints)  \n"
   ]
  },
  {
   "cell_type": "markdown",
   "metadata": {},
   "source": [
    "---\n",
    "\n",
    "## **Prerequisites / Setup**\n",
    "\n",
    "$\\Rightarrow$ Special setup instructions, imports and configurations go here.\n"
   ]
  },
  {
   "cell_type": "code",
   "execution_count": null,
   "metadata": {},
   "outputs": [],
   "source": [
    "import numpy as np\n",
    "import matplotlib.pyplot as plt\n",
    "import cv2 as cv\n",
    "import nibabel as nib\n",
    "import pydicom\n",
    "import PIL\n",
    "\n",
    "# Jupyter / IPython configuration:\n",
    "# Automatically reload modules when modified\n",
    "%load_ext autoreload\n",
    "%autoreload 2\n",
    "\n",
    "# Enable vectorized output (for nicer plots)\n",
    "%config InlineBackend.figure_formats = [\"svg\"]\n",
    "\n",
    "# Inline backend configuration\n",
    "%matplotlib inline\n",
    "\n",
    "# Enable this line if you want to use the interactive widgets\n",
    "# It requires the ipympl package to be installed.\n",
    "#%matplotlib widget\n",
    "\n",
    "import sys\n",
    "sys.path.insert(0, \"../\")\n",
    "import tools"
   ]
  },
  {
   "cell_type": "markdown",
   "metadata": {},
   "source": [
    "---\n",
    "\n",
    "\n",
    "<a id='sec_dataset'></a>\n",
    "\n",
    "## **Dataset**\n",
    "\n",
    "*$\\Rightarrow$ Describe your dataset.*\n",
    "\n",
    "### **Requirements**\n",
    "* Provide a dataset with at least 10 image samples.\n",
    "* The dataset must be no larger than 200 MB. If it exceeds this size, please contact the tutor in advance.\n",
    "* Ensure that you have the rights to use and share the data (check the usage license).\n",
    "* The images should clearly show a recognizable structure of interest.\n",
    "* Avoid datasets with too much variation.\n",
    "* Each student/team must use a different dataset!\n",
    "\n"
   ]
  },
  {
   "cell_type": "markdown",
   "metadata": {},
   "source": [
    "---\n",
    "\n",
    "<a id='sec_preprocessing'></a>\n",
    "\n",
    "## **Preprocessing**\n",
    "\n",
    "*$\\Rightarrow$ Describe the pre-processing steps applied to enhance the input images.*\n",
    "\n",
    "*Note: The specific steps will depend on your dataset and the intended application.*\n",
    "\n",
    "### **Instructions:**\n",
    "* Improve image quality by reducing noise, adjusting contrast, or normalizing intensity.\n",
    "* Standardize image dimensions and formats for consistent input to analysis pipelines.\n",
    "* Highlight or isolate relevant structures to support downstream processing.\n",
    "\n",
    "\n"
   ]
  },
  {
   "cell_type": "markdown",
   "metadata": {},
   "source": [
    "---\n",
    "\n",
    "<a id='sec_manual_segmentation'></a>\n",
    "\n",
    "## **Manual segmentation**\n",
    "\n",
    "*$\\Rightarrow$ Describe the manual segmentation step*\n",
    "\n",
    "\n",
    "### **Instructions:**\n",
    "* Use a suitable tool to manually segment the structures of interest.  \n",
    "* These segmentations will be needed for further analysis (or model training).  \n",
    "* If your dataset already includes segmentation masks, you still need to demonstrate how such masks can be created manually."
   ]
  },
  {
   "cell_type": "markdown",
   "metadata": {},
   "source": [
    "---\n",
    "\n",
    "<a id='sec_automated_segmentation'></a>\n",
    "\n",
    "## **Automated Segmentation**\n",
    "\n",
    "*$\\Rightarrow$ Describe how the images are segmented using Python.*\n",
    "\n",
    "### **Instructions:**\n",
    "* Perform the segmentation in Python.\n",
    "* You may use external libraries or tools (e.g., OpenCV, scikit-image).\n",
    "* Implement a function `segment(image, ...)` that takes an image as input and returns a segmentation mask for the structure of interest.\n"
   ]
  },
  {
   "cell_type": "markdown",
   "metadata": {},
   "source": [
    "---\n",
    "\n",
    "<a id='sec_evaluation'></a>\n",
    "\n",
    "## **Evaluation**\n",
    "\n",
    "*$\\Rightarrow$ Describe the evaluation of your results.*\n",
    "\n",
    "### **Instructions:**\n",
    "* Select an evaluation method to compare two binary segmentation masks and quantify how well they match (e.g., using the Dice score).\n",
    "* Hint: Implement a function `evaluate(mask1, mask2)` that returns the chosen evaluation score(s).\n",
    "* Calculate the mean and standard deviation of the scores across the entire dataset.\n",
    "\n"
   ]
  },
  {
   "cell_type": "markdown",
   "metadata": {},
   "source": [
    "---\n",
    "\n",
    "<a id='sec_discussion'></a>\n",
    "\n",
    "## **Discussion**\n",
    "\n",
    "*$\\Rightarrow$ Briefly discuss your results and share your key observations and your experiences and leaernings.*\n",
    "\n"
   ]
  },
  {
   "cell_type": "markdown",
   "metadata": {},
   "source": [
    "---\n",
    "\n",
    "<a id='sec_references'></a>\n",
    "\n",
    "## **References**\n",
    "\n",
    "*$\\Rightarrow$ List all relevant references (as URLs).*\n",
    "\n",
    "*Also, clearly state whether you used generative AI tools (e.g., ChatGPT, GitHub Copilot) and describe how they were used.*\n"
   ]
  },
  {
   "cell_type": "markdown",
   "metadata": {},
   "source": [
    "\n",
    "<br><br><br><br><br><br><br><br>\n",
    "\n",
    "---\n",
    "\n",
    "<a id='sec_hints'></a>\n",
    "\n",
    "## **Appendix: Hints**\n",
    "\n",
    "### **Markdown / HTML**\n",
    "\n",
    "The following tutorials might be useful if you are not yet familiar with Markdown:\n",
    "\n",
    "- [Quick overview](https://www.writethedocs.org/guide/writing/markdown/)\n",
    "- [Markdown GitHub-style](https://docs.github.com/en/get-started/writing-on-github/getting-started-with-writing-and-formatting-on-github/basic-writing-and-formatting-syntax)\n",
    "- [More detailed tutorial](https://www.datacamp.com/tutorial/markdown-in-jupyter-notebook)\n",
    "\n",
    "By the way: In Markdown cells, you can also use simple HTML (e.g., `<key>...</key>` blocks) to gain more control over formatting.\n",
    "\n",
    "\n",
    "\n"
   ]
  },
  {
   "cell_type": "markdown",
   "metadata": {},
   "source": [
    "### **Display images**\n",
    "\n",
    "You may want to display your data, if possible. Here are a few ways to do that:\n",
    "\n",
    "An easy method for displaying 2D images is using the [**Pillow**](https://pillow.readthedocs.io/en/stable/) library:"
   ]
  },
  {
   "cell_type": "code",
   "execution_count": null,
   "metadata": {},
   "outputs": [],
   "source": [
    "# Option 1: Display an image with Pillow\n",
    "path = \"../data/images/kidney-cells-lowres.jpg\"\n",
    "image = PIL.Image.open(path)\n",
    "display(image)                  "
   ]
  },
  {
   "cell_type": "markdown",
   "metadata": {},
   "source": [
    "If you are working with the data as a NumPy array (e.g., when using the OpenCV interface), you can also display it using **matplotlib**."
   ]
  },
  {
   "cell_type": "code",
   "execution_count": null,
   "metadata": {},
   "outputs": [],
   "source": [
    "# Option 2: OpenCV / Matplotlib\n",
    "path = \"../data/images/ct-brain-slices.jpg\"\n",
    "image = cv.imread(path)\n",
    "plt.imshow(image)\n",
    "plt.axis(\"off\");"
   ]
  },
  {
   "cell_type": "markdown",
   "metadata": {},
   "source": [
    "For convenience, we also provide a `display_image()` function in the **tools** library, which includes various utilities used throughout this course."
   ]
  },
  {
   "cell_type": "code",
   "execution_count": null,
   "metadata": {},
   "outputs": [],
   "source": [
    "# Option 3: Directly display a file\n",
    "path = \"../data/images/kidney-cells.jpg\"\n",
    "tools.display_image(path, scale=0.5)"
   ]
  },
  {
   "cell_type": "markdown",
   "metadata": {},
   "source": [
    "<br>\n",
    "<br>\n",
    "\n",
    "\n",
    "### **Display overlays**\n",
    "\n",
    "When segmenting images, you may want to overlay the input image with the segmentation mask.  \n",
    "There are several ways to do this – here are a few ideas:\n"
   ]
  },
  {
   "cell_type": "code",
   "execution_count": null,
   "metadata": {},
   "outputs": [],
   "source": [
    "################################################\n",
    "# Idea 1: Overlay a color on a grayscale image\n",
    "################################################\n",
    "\n",
    "# Enforce a (3-channel) color image\n",
    "path_image = \"../data/images/neurons-cultured.jpg\"\n",
    "image = cv.imread(path_image, cv.IMREAD_COLOR)\n",
    "image = cv.cvtColor(image, cv.COLOR_BGR2RGB)\n",
    "\n",
    "# Mask image\n",
    "path_mask = \"../data/images/neurons-cultured-mask.png\"\n",
    "mask = cv.imread(path_mask, cv.IMREAD_GRAYSCALE)\n",
    "\n",
    "# Create overlay (RGB)\n",
    "overlay_color = [255, 0, 0]\n",
    "overlay_alpha = 0.3\n",
    "overlay = image.copy()\n",
    "overlay[mask > 0] = overlay_color\n",
    "overlay = cv.addWeighted(image, 1 - overlay_alpha, overlay, overlay_alpha, 0)\n",
    "\n",
    "# Display the images next to each other using a convenience function\n",
    "tools.show_image_chain((image, overlay), titles=(\"Input\", \"Overlay\"))"
   ]
  },
  {
   "cell_type": "code",
   "execution_count": null,
   "metadata": {},
   "outputs": [],
   "source": [
    "################################################\n",
    "# Idea 2: Overlay contours on a grayscale image\n",
    "################################################\n",
    "\n",
    "overlay_color = [255, 255, 0]\n",
    "line_width = 1\n",
    "contours, _ = cv.findContours(mask, cv.RETR_EXTERNAL, cv.CHAIN_APPROX_SIMPLE)\n",
    "image_contours = image.copy()\n",
    "cv.drawContours(image_contours, contours, -1, overlay_color, line_width)\n",
    "tools.show_image_chain((image, image_contours), titles=(\"Input\", \"Contours\"))"
   ]
  },
  {
   "cell_type": "markdown",
   "metadata": {},
   "source": [
    "An advanced example: We can colorize different contours using distinct colors.\n",
    "\n",
    "#### ***Strategy:***\n",
    "- Use connected component labeling to assign a unique integer label to each region.\n",
    "- Map each label to a different color by encoding it in the hue channel (in the HSV color space).\n",
    "- Extract contours from the mask (ensure the mask is binary).\n",
    "- Draw the contours with their assigned colors onto the original image.\n"
   ]
  },
  {
   "cell_type": "code",
   "execution_count": null,
   "metadata": {},
   "outputs": [],
   "source": [
    "################################################\n",
    "# Idea 3: Use colorized contours\n",
    "################################################\n",
    "\n",
    "# This will contain the result\n",
    "image_contours = image.copy()\n",
    "\n",
    "# Compute the \"connected components\" (= separate objects in the mask)\n",
    "n_labels, labels = cv.connectedComponents(mask)\n",
    "\n",
    "# Assign a different color to each label in the hue channel (HSV color space)\n",
    "hue = np.uint8(150*labels/np.max(labels))\n",
    "blank = 255*np.ones_like(hue)\n",
    "labels = cv.merge([hue, blank, blank])\n",
    "\n",
    "# Convert from HSV color space to RGB\n",
    "labels = cv.cvtColor(labels, cv.COLOR_HSV2RGB)\n",
    "# Set the background label (labels==0) to black\n",
    "labels[labels==0] = 0\n",
    "\n",
    "# Create a mask of the contours\n",
    "line_width = 1\n",
    "contours, _ = cv.findContours(mask, cv.RETR_EXTERNAL, cv.CHAIN_APPROX_SIMPLE)\n",
    "mask_contours = cv.drawContours(np.zeros_like(mask), contours, -1, 255, line_width)\n",
    "\n",
    "# Assign the colored labels only along the contours\n",
    "image_contours[mask_contours>0] = labels[mask_contours>0]\n",
    "\n",
    "# Display the result\n",
    "tools.show_image_chain((image, image_contours), titles=(\"Input\", \"Labeled contours\"))"
   ]
  },
  {
   "cell_type": "markdown",
   "metadata": {},
   "source": [
    "<br>\n",
    "<br>\n",
    "\n",
    "\n",
    "\n",
    "### **How to convert a Jupyter notebook into a HTML/PDF:**\n",
    "\n",
    "- Don't forget to **save your notebook** before converting!\n",
    "- Install the conversion tool (if not already installed): `pip install nbconvert`\n",
    "- Convert the notebook to an HTML file: `jupyter nbconvert --to html main.ipynb`  \n",
    "  The HTML file will be saved in the same folder as your notebook.\n",
    "- Open the HTML file in a browser and print (or save) it as a PDF.\n",
    "- Tip: Using the Opera browser allows you to save the HTML as a single-page PDF, which often produces the best formatting (IMO).\n"
   ]
  },
  {
   "cell_type": "code",
   "execution_count": null,
   "metadata": {},
   "outputs": [],
   "source": [
    "# Make sure you save this notebook, otherwise the HTML \n",
    "# output will not contain the latest version!!\n",
    "\n",
    "# Make sure you have nbcovnert installed\n",
    "!pip install nbconvert --quiet\n",
    "# Save the notebook as HTML\n",
    "!jupyter nbconvert --to html main.ipynb"
   ]
  }
 ],
 "metadata": {
  "kernelspec": {
   "display_name": "venv-msls-co4",
   "language": "python",
   "name": "python3"
  },
  "language_info": {
   "codemirror_mode": {
    "name": "ipython",
    "version": 3
   },
   "file_extension": ".py",
   "mimetype": "text/x-python",
   "name": "python",
   "nbconvert_exporter": "python",
   "pygments_lexer": "ipython3",
   "version": "3.10.5"
  }
 },
 "nbformat": 4,
 "nbformat_minor": 2
}
